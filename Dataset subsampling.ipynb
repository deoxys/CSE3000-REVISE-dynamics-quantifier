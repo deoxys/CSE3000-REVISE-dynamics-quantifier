{
 "cells": [
  {
   "cell_type": "code",
   "execution_count": null,
   "id": "eb5bac4f",
   "metadata": {},
   "outputs": [],
   "source": [
    "import warnings\n",
    "warnings.filterwarnings(\"ignore\")\n",
    "\n",
    "from carla.data.catalog import OnlineCatalog, CsvCatalog\n",
    "from sklearn.model_selection import train_test_split\n",
    "import pandas as pd\n",
    "import numpy as np\n",
    "import json"
   ]
  },
  {
   "cell_type": "code",
   "execution_count": null,
   "id": "87498222",
   "metadata": {},
   "outputs": [],
   "source": [
    "dataset = OnlineCatalog('give_me_some_credit')\n",
    "target = dataset.target"
   ]
  },
  {
   "cell_type": "code",
   "execution_count": null,
   "id": "f5e5db7a",
   "metadata": {},
   "outputs": [],
   "source": [
    "np.random.seed(42)\n",
    "df = dataset.df\n",
    "df0 = dataset.df.loc[dataset.df[dataset.target] == 0].sample(1500)\n",
    "df1 = dataset.df.loc[dataset.df[dataset.target] == 1].sample(1500)\n",
    "df_n = pd.concat([df0, df1], ignore_index=True)\n",
    "\n",
    "df_n[target] = np.where(df_n[target] > 0.5, 0, 1)\n",
    "\n",
    "X_train, X_test, y_train, y_test = train_test_split(df_n.drop(target, axis=1), df_n[target], \n",
    "                                                    test_size=0.33, random_state=42, stratify=df_n[target]\n",
    "                                                   )\n",
    "\n",
    "df = df_n.sort_values(target, ignore_index=True)"
   ]
  },
  {
   "cell_type": "code",
   "execution_count": null,
   "id": "66e9aa84",
   "metadata": {},
   "outputs": [],
   "source": [
    "with open('datasets/give_me_some_credit_balanced/give_me_some_credit.csv', 'w+', newline='') as f:\n",
    "    f.write(df.to_csv(index=False))\n",
    "        \n",
    "    f.close()"
   ]
  },
  {
   "cell_type": "code",
   "execution_count": null,
   "id": "2dd1d6ed",
   "metadata": {},
   "outputs": [],
   "source": [
    "with open('datasets/give_me_some_credit_balanced/metadata.json', 'w+') as f:\n",
    "    metadata = {\n",
    "        'filename': 'give_me_some_credit.csv',\n",
    "        'continuous': dataset.continuous,\n",
    "        'categorical': dataset.categorical,\n",
    "        'immutables': dataset.immutables,\n",
    "        'target': dataset.target\n",
    "    }\n",
    "    json.dump(metadata, f, indent=4)"
   ]
  },
  {
   "cell_type": "code",
   "execution_count": null,
   "id": "67e57872",
   "metadata": {},
   "outputs": [],
   "source": [
    "metadata = json.load(open('datasets/give_me_some_credit_balanced/metadata.json'))\n",
    "\n",
    "dataset_csv = CsvCatalog('datasets/give_me_some_credit_balanced/give_me_some_credit.csv',\n",
    "                        continuous=metadata['continuous'],\n",
    "                        categorical=metadata['categorical'],\n",
    "                        immutables=metadata['immutables'],\n",
    "                        target=metadata['target'])"
   ]
  },
  {
   "cell_type": "code",
   "execution_count": null,
   "id": "1675a05d",
   "metadata": {},
   "outputs": [],
   "source": []
  }
 ],
 "metadata": {
  "kernelspec": {
   "display_name": "recourse2",
   "language": "python",
   "name": "recourse2"
  },
  "language_info": {
   "codemirror_mode": {
    "name": "ipython",
    "version": 3
   },
   "file_extension": ".py",
   "mimetype": "text/x-python",
   "name": "python",
   "nbconvert_exporter": "python",
   "pygments_lexer": "ipython3",
   "version": "3.7.13"
  }
 },
 "nbformat": 4,
 "nbformat_minor": 5
}
